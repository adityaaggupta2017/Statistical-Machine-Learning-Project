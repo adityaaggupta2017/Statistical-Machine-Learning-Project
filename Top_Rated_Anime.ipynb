{
 "cells": [
  {
   "cell_type": "code",
   "execution_count": 10,
   "id": "initial_id",
   "metadata": {
    "collapsed": true,
    "ExecuteTime": {
     "end_time": "2024-02-11T01:18:24.679669500Z",
     "start_time": "2024-02-11T01:18:24.664055300Z"
    }
   },
   "outputs": [],
   "source": [
    "import archive\n",
    "import numpy as np\n",
    "import pandas as pd\n",
    "import warnings\n",
    "import matplotlib.pyplot as plt\n",
    "import seaborn as sns\n",
    "import plotly.express as px\n",
    "import plotly.graph_objects as go\n",
    "import plotly.io as pio\n",
    "from plotly.subplots import make_subplots\n",
    "from termcolor import colored\n",
    "from PIL import Image\n",
    "from wordcloud import WordCloud, STOPWORDS, ImageColorGenerator"
   ]
  },
  {
   "cell_type": "code",
   "outputs": [],
   "source": [
    "pio.templates.default = \"simple_white\"\n",
    "antq_blue = \"#336699\"\n",
    "antq_purple = \"#ac39ac\"\n",
    "antq_red = \"#e63900\"\n",
    "antq_orange = \"#ff8c1a\"\n",
    "faded_grey = \"#e6e6e6\"\n",
    "light_grey = \"#d9d9d9\"\n",
    "heading_font = \"Brush Script MT, Brush Script Std, cursive\"\n",
    "normal_font = \"times new roman\"\n",
    "palette = px.colors.qualitative.Set2\n",
    "palette_r = px.colors.qualitative.Set2_r\n",
    "set1 = px.colors.qualitative.Set1\n",
    "set3 = px.colors.qualitative.Set3\n",
    "warnings.filterwarnings('ignore')"
   ],
   "metadata": {
    "collapsed": false,
    "ExecuteTime": {
     "end_time": "2024-02-11T01:18:25.119479200Z",
     "start_time": "2024-02-11T01:18:25.083394200Z"
    }
   },
   "id": "eeb05f41da633f04",
   "execution_count": 11
  },
  {
   "cell_type": "code",
   "outputs": [
    {
     "data": {
      "text/plain": "     anime_id                              name  \\\n0       32281                    Kimi no Na wa.   \n1        5114  Fullmetal Alchemist: Brotherhood   \n2       28977                          Gintama°   \n3        9253                       Steins;Gate   \n4        9969                     Gintama&#039;   \n..        ...                               ...   \n995       132                        GetBackers   \n996     14467                                 K   \n997      8532    Katekyo Hitman Reborn! Special   \n998      1606                         Kekkaishi   \n999      9136          Kuroshitsuji II Specials   \n\n                                                 genre     type episodes  \\\n0                 Drama, Romance, School, Supernatural    Movie        1   \n1    Action, Adventure, Drama, Fantasy, Magic, Mili...       TV       64   \n2    Action, Comedy, Historical, Parody, Samurai, S...       TV       51   \n3                                     Sci-Fi, Thriller       TV       24   \n4    Action, Comedy, Historical, Parody, Samurai, S...       TV       51   \n..                                                 ...      ...      ...   \n995  Action, Comedy, Drama, Mystery, Shounen, Super...       TV       49   \n996                  Action, Super Power, Supernatural       TV       13   \n997                                    Comedy, Shounen      ONA        1   \n998                Adventure, Comedy, Fantasy, Shounen       TV       52   \n999     Comedy, Fantasy, Parody, Shounen, Supernatural  Special        6   \n\n     rating  members  \n0      9.37   200630  \n1      9.26   793665  \n2      9.25   114262  \n3      9.17   673572  \n4      9.16   151266  \n..      ...      ...  \n995    7.73    73536  \n996    7.73   297051  \n997    7.73    19991  \n998    7.73    61884  \n999    7.73    60899  \n\n[1000 rows x 7 columns]",
      "text/html": "<div>\n<style scoped>\n    .dataframe tbody tr th:only-of-type {\n        vertical-align: middle;\n    }\n\n    .dataframe tbody tr th {\n        vertical-align: top;\n    }\n\n    .dataframe thead th {\n        text-align: right;\n    }\n</style>\n<table border=\"1\" class=\"dataframe\">\n  <thead>\n    <tr style=\"text-align: right;\">\n      <th></th>\n      <th>anime_id</th>\n      <th>name</th>\n      <th>genre</th>\n      <th>type</th>\n      <th>episodes</th>\n      <th>rating</th>\n      <th>members</th>\n    </tr>\n  </thead>\n  <tbody>\n    <tr>\n      <th>0</th>\n      <td>32281</td>\n      <td>Kimi no Na wa.</td>\n      <td>Drama, Romance, School, Supernatural</td>\n      <td>Movie</td>\n      <td>1</td>\n      <td>9.37</td>\n      <td>200630</td>\n    </tr>\n    <tr>\n      <th>1</th>\n      <td>5114</td>\n      <td>Fullmetal Alchemist: Brotherhood</td>\n      <td>Action, Adventure, Drama, Fantasy, Magic, Mili...</td>\n      <td>TV</td>\n      <td>64</td>\n      <td>9.26</td>\n      <td>793665</td>\n    </tr>\n    <tr>\n      <th>2</th>\n      <td>28977</td>\n      <td>Gintama°</td>\n      <td>Action, Comedy, Historical, Parody, Samurai, S...</td>\n      <td>TV</td>\n      <td>51</td>\n      <td>9.25</td>\n      <td>114262</td>\n    </tr>\n    <tr>\n      <th>3</th>\n      <td>9253</td>\n      <td>Steins;Gate</td>\n      <td>Sci-Fi, Thriller</td>\n      <td>TV</td>\n      <td>24</td>\n      <td>9.17</td>\n      <td>673572</td>\n    </tr>\n    <tr>\n      <th>4</th>\n      <td>9969</td>\n      <td>Gintama&amp;#039;</td>\n      <td>Action, Comedy, Historical, Parody, Samurai, S...</td>\n      <td>TV</td>\n      <td>51</td>\n      <td>9.16</td>\n      <td>151266</td>\n    </tr>\n    <tr>\n      <th>...</th>\n      <td>...</td>\n      <td>...</td>\n      <td>...</td>\n      <td>...</td>\n      <td>...</td>\n      <td>...</td>\n      <td>...</td>\n    </tr>\n    <tr>\n      <th>995</th>\n      <td>132</td>\n      <td>GetBackers</td>\n      <td>Action, Comedy, Drama, Mystery, Shounen, Super...</td>\n      <td>TV</td>\n      <td>49</td>\n      <td>7.73</td>\n      <td>73536</td>\n    </tr>\n    <tr>\n      <th>996</th>\n      <td>14467</td>\n      <td>K</td>\n      <td>Action, Super Power, Supernatural</td>\n      <td>TV</td>\n      <td>13</td>\n      <td>7.73</td>\n      <td>297051</td>\n    </tr>\n    <tr>\n      <th>997</th>\n      <td>8532</td>\n      <td>Katekyo Hitman Reborn! Special</td>\n      <td>Comedy, Shounen</td>\n      <td>ONA</td>\n      <td>1</td>\n      <td>7.73</td>\n      <td>19991</td>\n    </tr>\n    <tr>\n      <th>998</th>\n      <td>1606</td>\n      <td>Kekkaishi</td>\n      <td>Adventure, Comedy, Fantasy, Shounen</td>\n      <td>TV</td>\n      <td>52</td>\n      <td>7.73</td>\n      <td>61884</td>\n    </tr>\n    <tr>\n      <th>999</th>\n      <td>9136</td>\n      <td>Kuroshitsuji II Specials</td>\n      <td>Comedy, Fantasy, Parody, Shounen, Supernatural</td>\n      <td>Special</td>\n      <td>6</td>\n      <td>7.73</td>\n      <td>60899</td>\n    </tr>\n  </tbody>\n</table>\n<p>1000 rows × 7 columns</p>\n</div>"
     },
     "execution_count": 12,
     "metadata": {},
     "output_type": "execute_result"
    }
   ],
   "source": [
    "dataset = pd.read_csv(r\"Data\\anime.csv\")\n",
    "dataset.head(1000)\n",
    "# this is returning me the data which is present in the dataset .       "
   ],
   "metadata": {
    "collapsed": false,
    "ExecuteTime": {
     "end_time": "2024-02-11T01:18:25.943394500Z",
     "start_time": "2024-02-11T01:18:25.905674700Z"
    }
   },
   "id": "fe68e35b3e2d59ed",
   "execution_count": 12
  },
  {
   "cell_type": "code",
   "outputs": [],
   "source": [
    "    "
   ],
   "metadata": {
    "collapsed": false,
    "ExecuteTime": {
     "end_time": "2024-02-10T23:58:01.126470200Z",
     "start_time": "2024-02-10T23:58:01.120212400Z"
    }
   },
   "id": "2d0d8787e5eb3dba",
   "execution_count": 19
  },
  {
   "cell_type": "code",
   "outputs": [],
   "source": [],
   "metadata": {
    "collapsed": false
   },
   "id": "18966a7d66647538"
  }
 ],
 "metadata": {
  "kernelspec": {
   "display_name": "Python 3",
   "language": "python",
   "name": "python3"
  },
  "language_info": {
   "codemirror_mode": {
    "name": "ipython",
    "version": 2
   },
   "file_extension": ".py",
   "mimetype": "text/x-python",
   "name": "python",
   "nbconvert_exporter": "python",
   "pygments_lexer": "ipython2",
   "version": "2.7.6"
  }
 },
 "nbformat": 4,
 "nbformat_minor": 5
}
