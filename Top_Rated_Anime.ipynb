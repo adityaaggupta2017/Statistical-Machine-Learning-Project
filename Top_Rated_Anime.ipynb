{
 "cells": [
  {
   "cell_type": "code",
   "execution_count": 270,
   "id": "initial_id",
   "metadata": {
    "collapsed": true,
    "ExecuteTime": {
     "end_time": "2024-02-11T03:25:16.744399300Z",
     "start_time": "2024-02-11T03:25:16.680655500Z"
    }
   },
   "outputs": [],
   "source": [
    "import archive\n",
    "import numpy as np\n",
    "import pandas as pd\n",
    "import warnings\n",
    "import matplotlib.pyplot as plt\n",
    "import seaborn as sns\n",
    "import plotly.express as px\n",
    "import plotly.graph_objects as go\n",
    "import plotly.io as pio\n",
    "from plotly.subplots import make_subplots\n",
    "from termcolor import colored\n",
    "from PIL import Image\n",
    "from wordcloud import WordCloud, STOPWORDS, ImageColorGenerator\n",
    "from sklearn.cluster import KMeans\n",
    "from sklearn.preprocessing import LabelEncoder, StandardScaler\n",
    "from sklearn.feature_extraction.text import TfidfVectorizer\n",
    "from sklearn.metrics.pairwise import sigmoid_kernel\n",
    "from sklearn.metrics.pairwise import cosine_similarity\n",
    "from surprise import SVD, Dataset, Reader\n",
    "from surprise.model_selection import train_test_split\n",
    "from surprise import accuracy"
   ]
  },
  {
   "cell_type": "code",
   "outputs": [],
   "source": [
    "pio.templates.default = \"simple_white\"\n",
    "antq_blue = \"#336699\"\n",
    "antq_purple = \"#ac39ac\"\n",
    "antq_red = \"#e63900\"\n",
    "antq_orange = \"#ff8c1a\"\n",
    "faded_grey = \"#e6e6e6\"\n",
    "light_grey = \"#d9d9d9\"\n",
    "heading_font = \"Brush Script MT, Brush Script Std, cursive\"\n",
    "normal_font = \"times new roman\"\n",
    "palette = px.colors.qualitative.Set2\n",
    "palette_r = px.colors.qualitative.Set2_r\n",
    "set1 = px.colors.qualitative.Set1\n",
    "set3 = px.colors.qualitative.Set3\n",
    "warnings.filterwarnings('ignore')"
   ],
   "metadata": {
    "collapsed": false,
    "ExecuteTime": {
     "end_time": "2024-02-11T03:25:16.759688Z",
     "start_time": "2024-02-11T03:25:16.746399800Z"
    }
   },
   "id": "eeb05f41da633f04",
   "execution_count": 271
  },
  {
   "cell_type": "markdown",
   "source": [
    "DATA SUMMARY - This is some of the data which will be used in this project ."
   ],
   "metadata": {
    "collapsed": false
   },
   "id": "782ddef334c1fd53"
  },
  {
   "cell_type": "code",
   "outputs": [
    {
     "data": {
      "text/plain": "   anime_id                              name  \\\n0     32281                    Kimi no Na wa.   \n1      5114  Fullmetal Alchemist: Brotherhood   \n2     28977                          Gintama°   \n3      9253                       Steins;Gate   \n4      9969                     Gintama&#039;   \n\n                                               genre   type episodes  rating  \\\n0               Drama, Romance, School, Supernatural  Movie        1    9.37   \n1  Action, Adventure, Drama, Fantasy, Magic, Mili...     TV       64    9.26   \n2  Action, Comedy, Historical, Parody, Samurai, S...     TV       51    9.25   \n3                                   Sci-Fi, Thriller     TV       24    9.17   \n4  Action, Comedy, Historical, Parody, Samurai, S...     TV       51    9.16   \n\n   members  \n0   200630  \n1   793665  \n2   114262  \n3   673572  \n4   151266  ",
      "text/html": "<div>\n<style scoped>\n    .dataframe tbody tr th:only-of-type {\n        vertical-align: middle;\n    }\n\n    .dataframe tbody tr th {\n        vertical-align: top;\n    }\n\n    .dataframe thead th {\n        text-align: right;\n    }\n</style>\n<table border=\"1\" class=\"dataframe\">\n  <thead>\n    <tr style=\"text-align: right;\">\n      <th></th>\n      <th>anime_id</th>\n      <th>name</th>\n      <th>genre</th>\n      <th>type</th>\n      <th>episodes</th>\n      <th>rating</th>\n      <th>members</th>\n    </tr>\n  </thead>\n  <tbody>\n    <tr>\n      <th>0</th>\n      <td>32281</td>\n      <td>Kimi no Na wa.</td>\n      <td>Drama, Romance, School, Supernatural</td>\n      <td>Movie</td>\n      <td>1</td>\n      <td>9.37</td>\n      <td>200630</td>\n    </tr>\n    <tr>\n      <th>1</th>\n      <td>5114</td>\n      <td>Fullmetal Alchemist: Brotherhood</td>\n      <td>Action, Adventure, Drama, Fantasy, Magic, Mili...</td>\n      <td>TV</td>\n      <td>64</td>\n      <td>9.26</td>\n      <td>793665</td>\n    </tr>\n    <tr>\n      <th>2</th>\n      <td>28977</td>\n      <td>Gintama°</td>\n      <td>Action, Comedy, Historical, Parody, Samurai, S...</td>\n      <td>TV</td>\n      <td>51</td>\n      <td>9.25</td>\n      <td>114262</td>\n    </tr>\n    <tr>\n      <th>3</th>\n      <td>9253</td>\n      <td>Steins;Gate</td>\n      <td>Sci-Fi, Thriller</td>\n      <td>TV</td>\n      <td>24</td>\n      <td>9.17</td>\n      <td>673572</td>\n    </tr>\n    <tr>\n      <th>4</th>\n      <td>9969</td>\n      <td>Gintama&amp;#039;</td>\n      <td>Action, Comedy, Historical, Parody, Samurai, S...</td>\n      <td>TV</td>\n      <td>51</td>\n      <td>9.16</td>\n      <td>151266</td>\n    </tr>\n  </tbody>\n</table>\n</div>"
     },
     "execution_count": 272,
     "metadata": {},
     "output_type": "execute_result"
    }
   ],
   "source": [
    "dataset = pd.read_csv(r\"Data\\anime.csv\")\n",
    "dataset.head()\n",
    "# this is returning me the data which is present in the dataset .       "
   ],
   "metadata": {
    "collapsed": false,
    "ExecuteTime": {
     "end_time": "2024-02-11T03:25:16.793447600Z",
     "start_time": "2024-02-11T03:25:16.760689Z"
    }
   },
   "id": "fe68e35b3e2d59ed",
   "execution_count": 272
  },
  {
   "cell_type": "code",
   "outputs": [
    {
     "data": {
      "text/plain": "   user_id  anime_id  rating\n0        1        20      -1\n1        1        24      -1\n2        1        79      -1\n3        1       226      -1\n4        1       241      -1",
      "text/html": "<div>\n<style scoped>\n    .dataframe tbody tr th:only-of-type {\n        vertical-align: middle;\n    }\n\n    .dataframe tbody tr th {\n        vertical-align: top;\n    }\n\n    .dataframe thead th {\n        text-align: right;\n    }\n</style>\n<table border=\"1\" class=\"dataframe\">\n  <thead>\n    <tr style=\"text-align: right;\">\n      <th></th>\n      <th>user_id</th>\n      <th>anime_id</th>\n      <th>rating</th>\n    </tr>\n  </thead>\n  <tbody>\n    <tr>\n      <th>0</th>\n      <td>1</td>\n      <td>20</td>\n      <td>-1</td>\n    </tr>\n    <tr>\n      <th>1</th>\n      <td>1</td>\n      <td>24</td>\n      <td>-1</td>\n    </tr>\n    <tr>\n      <th>2</th>\n      <td>1</td>\n      <td>79</td>\n      <td>-1</td>\n    </tr>\n    <tr>\n      <th>3</th>\n      <td>1</td>\n      <td>226</td>\n      <td>-1</td>\n    </tr>\n    <tr>\n      <th>4</th>\n      <td>1</td>\n      <td>241</td>\n      <td>-1</td>\n    </tr>\n  </tbody>\n</table>\n</div>"
     },
     "execution_count": 273,
     "metadata": {},
     "output_type": "execute_result"
    }
   ],
   "source": [
    "Ratings_Dataset = pd.read_csv(r\"Data\\rating.csv\")\n",
    "Ratings_Dataset.head() "
   ],
   "metadata": {
    "collapsed": false,
    "ExecuteTime": {
     "end_time": "2024-02-11T03:25:17.816767100Z",
     "start_time": "2024-02-11T03:25:16.782446500Z"
    }
   },
   "id": "2d0d8787e5eb3dba",
   "execution_count": 273
  },
  {
   "cell_type": "code",
   "outputs": [
    {
     "data": {
      "text/plain": "      anime_id     name                                     genre type  \\\n1834       527  Pokemon  Action, Adventure, Comedy, Fantasy, Kids   TV   \n\n     episodes  rating  members  \n1834      276    7.43   229157  ",
      "text/html": "<div>\n<style scoped>\n    .dataframe tbody tr th:only-of-type {\n        vertical-align: middle;\n    }\n\n    .dataframe tbody tr th {\n        vertical-align: top;\n    }\n\n    .dataframe thead th {\n        text-align: right;\n    }\n</style>\n<table border=\"1\" class=\"dataframe\">\n  <thead>\n    <tr style=\"text-align: right;\">\n      <th></th>\n      <th>anime_id</th>\n      <th>name</th>\n      <th>genre</th>\n      <th>type</th>\n      <th>episodes</th>\n      <th>rating</th>\n      <th>members</th>\n    </tr>\n  </thead>\n  <tbody>\n    <tr>\n      <th>1834</th>\n      <td>527</td>\n      <td>Pokemon</td>\n      <td>Action, Adventure, Comedy, Fantasy, Kids</td>\n      <td>TV</td>\n      <td>276</td>\n      <td>7.43</td>\n      <td>229157</td>\n    </tr>\n  </tbody>\n</table>\n</div>"
     },
     "execution_count": 274,
     "metadata": {},
     "output_type": "execute_result"
    }
   ],
   "source": [
    "dataset[dataset.name == 'Pokemon'] # this is how we can see an anime based on the name"
   ],
   "metadata": {
    "collapsed": false,
    "ExecuteTime": {
     "end_time": "2024-02-11T03:25:17.823266800Z",
     "start_time": "2024-02-11T03:25:17.815765200Z"
    }
   },
   "id": "aacbd0933d2d7114",
   "execution_count": 274
  },
  {
   "cell_type": "code",
   "outputs": [
    {
     "name": "stdout",
     "output_type": "stream",
     "text": [
      "<class 'pandas.core.frame.DataFrame'>\n",
      "RangeIndex: 12294 entries, 0 to 12293\n",
      "Data columns (total 7 columns):\n",
      " #   Column    Non-Null Count  Dtype  \n",
      "---  ------    --------------  -----  \n",
      " 0   anime_id  12294 non-null  int64  \n",
      " 1   name      12294 non-null  object \n",
      " 2   genre     12232 non-null  object \n",
      " 3   type      12269 non-null  object \n",
      " 4   episodes  12294 non-null  object \n",
      " 5   rating    12064 non-null  float64\n",
      " 6   members   12294 non-null  int64  \n",
      "dtypes: float64(1), int64(2), object(4)\n",
      "memory usage: 672.5+ KB\n"
     ]
    }
   ],
   "source": [
    "dataset.info()"
   ],
   "metadata": {
    "collapsed": false,
    "ExecuteTime": {
     "end_time": "2024-02-11T03:25:17.831217800Z",
     "start_time": "2024-02-11T03:25:17.823266800Z"
    }
   },
   "id": "274eaf3c5580ea6d",
   "execution_count": 275
  },
  {
   "cell_type": "markdown",
   "source": [
    "The Number of Enteries in the Datasets of Anime and Ratings are as follows: "
   ],
   "metadata": {
    "collapsed": false
   },
   "id": "ebfbecbb1219c0c9"
  },
  {
   "cell_type": "code",
   "outputs": [
    {
     "name": "stdout",
     "output_type": "stream",
     "text": [
      "anime shape: (12294, 7)\n",
      "rating shape: (7813737, 3)\n"
     ]
    }
   ],
   "source": [
    "print(f'anime shape: {dataset.shape}\\nrating shape: {Ratings_Dataset.shape}')"
   ],
   "metadata": {
    "collapsed": false,
    "ExecuteTime": {
     "end_time": "2024-02-11T03:25:17.836731800Z",
     "start_time": "2024-02-11T03:25:17.830885300Z"
    }
   },
   "id": "e99b8787782234df",
   "execution_count": 276
  },
  {
   "cell_type": "markdown",
   "source": [
    "Check the Missing Values"
   ],
   "metadata": {
    "collapsed": false
   },
   "id": "41fd6953a045dcac"
  },
  {
   "cell_type": "code",
   "outputs": [
    {
     "data": {
      "text/plain": "user_id     0\nanime_id    0\nrating      0\ndtype: int64"
     },
     "execution_count": 277,
     "metadata": {},
     "output_type": "execute_result"
    }
   ],
   "source": [
    "Ratings_Dataset.isna().sum()"
   ],
   "metadata": {
    "collapsed": false,
    "ExecuteTime": {
     "end_time": "2024-02-11T03:25:17.902863Z",
     "start_time": "2024-02-11T03:25:17.833729100Z"
    }
   },
   "id": "f210485ce5374db7",
   "execution_count": 277
  },
  {
   "cell_type": "code",
   "outputs": [
    {
     "data": {
      "text/plain": "anime_id      0\nname          0\ngenre        62\ntype         25\nepisodes      0\nrating      230\nmembers       0\ndtype: int64"
     },
     "execution_count": 278,
     "metadata": {},
     "output_type": "execute_result"
    }
   ],
   "source": [
    "dataset.isna().sum()"
   ],
   "metadata": {
    "collapsed": false,
    "ExecuteTime": {
     "end_time": "2024-02-11T03:25:17.903862300Z",
     "start_time": "2024-02-11T03:25:17.859072900Z"
    }
   },
   "id": "bb5c13334c07eab9",
   "execution_count": 278
  },
  {
   "cell_type": "markdown",
   "source": [
    "Now that we get the missing rows in both the datasets we can remove them as they are not useful for us ."
   ],
   "metadata": {
    "collapsed": false
   },
   "id": "bc5883e5e2d6912c"
  },
  {
   "cell_type": "markdown",
   "source": [
    "REMOVING MISSING ROWS"
   ],
   "metadata": {
    "collapsed": false
   },
   "id": "b2c16ff533542915"
  },
  {
   "cell_type": "code",
   "outputs": [
    {
     "data": {
      "text/plain": "anime_id    0\nname        0\ngenre       0\ntype        0\nepisodes    0\nrating      0\nmembers     0\ndtype: int64"
     },
     "execution_count": 279,
     "metadata": {},
     "output_type": "execute_result"
    }
   ],
   "source": [
    "dataset.dropna(axis=0 , inplace=True)\n",
    "dataset.isna().sum()"
   ],
   "metadata": {
    "collapsed": false,
    "ExecuteTime": {
     "end_time": "2024-02-11T03:25:17.919874800Z",
     "start_time": "2024-02-11T03:25:17.865460400Z"
    }
   },
   "id": "97f026a5db4380d7",
   "execution_count": 279
  },
  {
   "cell_type": "code",
   "outputs": [
    {
     "data": {
      "text/plain": "           anime_id        rating       members\ncount  12017.000000  12017.000000  1.201700e+04\nmean   13638.001165      6.478264  1.834888e+04\nstd    11231.076675      1.023857  5.537250e+04\nmin        1.000000      1.670000  1.200000e+01\n25%     3391.000000      5.890000  2.250000e+02\n50%     9959.000000      6.570000  1.552000e+03\n75%    23729.000000      7.180000  9.588000e+03\nmax    34519.000000     10.000000  1.013917e+06",
      "text/html": "<div>\n<style scoped>\n    .dataframe tbody tr th:only-of-type {\n        vertical-align: middle;\n    }\n\n    .dataframe tbody tr th {\n        vertical-align: top;\n    }\n\n    .dataframe thead th {\n        text-align: right;\n    }\n</style>\n<table border=\"1\" class=\"dataframe\">\n  <thead>\n    <tr style=\"text-align: right;\">\n      <th></th>\n      <th>anime_id</th>\n      <th>rating</th>\n      <th>members</th>\n    </tr>\n  </thead>\n  <tbody>\n    <tr>\n      <th>count</th>\n      <td>12017.000000</td>\n      <td>12017.000000</td>\n      <td>1.201700e+04</td>\n    </tr>\n    <tr>\n      <th>mean</th>\n      <td>13638.001165</td>\n      <td>6.478264</td>\n      <td>1.834888e+04</td>\n    </tr>\n    <tr>\n      <th>std</th>\n      <td>11231.076675</td>\n      <td>1.023857</td>\n      <td>5.537250e+04</td>\n    </tr>\n    <tr>\n      <th>min</th>\n      <td>1.000000</td>\n      <td>1.670000</td>\n      <td>1.200000e+01</td>\n    </tr>\n    <tr>\n      <th>25%</th>\n      <td>3391.000000</td>\n      <td>5.890000</td>\n      <td>2.250000e+02</td>\n    </tr>\n    <tr>\n      <th>50%</th>\n      <td>9959.000000</td>\n      <td>6.570000</td>\n      <td>1.552000e+03</td>\n    </tr>\n    <tr>\n      <th>75%</th>\n      <td>23729.000000</td>\n      <td>7.180000</td>\n      <td>9.588000e+03</td>\n    </tr>\n    <tr>\n      <th>max</th>\n      <td>34519.000000</td>\n      <td>10.000000</td>\n      <td>1.013917e+06</td>\n    </tr>\n  </tbody>\n</table>\n</div>"
     },
     "execution_count": 280,
     "metadata": {},
     "output_type": "execute_result"
    }
   ],
   "source": [
    "dataset.describe()"
   ],
   "metadata": {
    "collapsed": false,
    "ExecuteTime": {
     "end_time": "2024-02-11T03:25:17.943394100Z",
     "start_time": "2024-02-11T03:25:17.873916100Z"
    }
   },
   "id": "47eb72f81080c7c3",
   "execution_count": 280
  },
  {
   "cell_type": "markdown",
   "source": [
    "Now let see the episodes which are there in the various animes"
   ],
   "metadata": {
    "collapsed": false
   },
   "id": "4d2193d71bf7bc63"
  },
  {
   "cell_type": "code",
   "outputs": [
    {
     "data": {
      "text/plain": "episodes\n1      5571\n2      1075\n12      810\n13      571\n26      514\n       ... \n358       1\n366       1\n201       1\n172       1\n125       1\nName: count, Length: 187, dtype: int64"
     },
     "execution_count": 281,
     "metadata": {},
     "output_type": "execute_result"
    }
   ],
   "source": [
    "dataset.episodes.value_counts()"
   ],
   "metadata": {
    "collapsed": false,
    "ExecuteTime": {
     "end_time": "2024-02-11T03:25:17.961392100Z",
     "start_time": "2024-02-11T03:25:17.884753800Z"
    }
   },
   "id": "1dabbffe9154c180",
   "execution_count": 281
  },
  {
   "cell_type": "markdown",
   "source": [
    "Now we remove the duplicates from the DATASET after checking for them ."
   ],
   "metadata": {
    "collapsed": false
   },
   "id": "219440d24d8e9b58"
  },
  {
   "cell_type": "code",
   "outputs": [
    {
     "name": "stdout",
     "output_type": "stream",
     "text": [
      "the number of duplicated anime are:0\n"
     ]
    }
   ],
   "source": [
    "number_of_duplicated_anime = dataset[dataset.duplicated()].shape[0] \n",
    "print(f\"the number of duplicated anime are:{number_of_duplicated_anime}\")"
   ],
   "metadata": {
    "collapsed": false,
    "ExecuteTime": {
     "end_time": "2024-02-11T03:25:17.962393600Z",
     "start_time": "2024-02-11T03:25:17.890478100Z"
    }
   },
   "id": "6fb2a825f733e07b",
   "execution_count": 282
  },
  {
   "cell_type": "code",
   "outputs": [
    {
     "name": "stdout",
     "output_type": "stream",
     "text": [
      "the number of duplicated ratings are:1\n"
     ]
    }
   ],
   "source": [
    "number_of_duplicated_ratings = Ratings_Dataset[Ratings_Dataset.duplicated()].shape[0] \n",
    "print(f\"the number of duplicated ratings are:{number_of_duplicated_ratings}\")"
   ],
   "metadata": {
    "collapsed": false,
    "ExecuteTime": {
     "end_time": "2024-02-11T03:25:18.961539200Z",
     "start_time": "2024-02-11T03:25:17.899864600Z"
    }
   },
   "id": "1e2ed8f21f994c8d",
   "execution_count": 283
  },
  {
   "cell_type": "code",
   "outputs": [
    {
     "name": "stdout",
     "output_type": "stream",
     "text": [
      "the number of duplicated ratings are:0\n"
     ]
    }
   ],
   "source": [
    "Ratings_Dataset.drop_duplicates(keep='first', inplace=True)\n",
    "number_of_duplicated_ratings = Ratings_Dataset[Ratings_Dataset.duplicated()].shape[0] \n",
    "print(f\"the number of duplicated ratings are:{number_of_duplicated_ratings}\")"
   ],
   "metadata": {
    "collapsed": false,
    "ExecuteTime": {
     "end_time": "2024-02-11T03:25:21.100900400Z",
     "start_time": "2024-02-11T03:25:18.962538800Z"
    }
   },
   "id": "c3609536b6d04ef8",
   "execution_count": 284
  },
  {
   "cell_type": "markdown",
   "source": [
    "CREATING THE DATABASE "
   ],
   "metadata": {
    "collapsed": false
   },
   "id": "2bab2079b52fc07c"
  },
  {
   "cell_type": "code",
   "outputs": [],
   "source": [],
   "metadata": {
    "collapsed": false
   },
   "id": "63643ca2284bfcf0"
  }
 ],
 "metadata": {
  "kernelspec": {
   "display_name": "Python 3",
   "language": "python",
   "name": "python3"
  },
  "language_info": {
   "codemirror_mode": {
    "name": "ipython",
    "version": 2
   },
   "file_extension": ".py",
   "mimetype": "text/x-python",
   "name": "python",
   "nbconvert_exporter": "python",
   "pygments_lexer": "ipython2",
   "version": "2.7.6"
  }
 },
 "nbformat": 4,
 "nbformat_minor": 5
}
