{
 "cells": [
  {
   "cell_type": "code",
   "execution_count": 7,
   "id": "initial_id",
   "metadata": {
    "collapsed": true,
    "ExecuteTime": {
     "end_time": "2024-02-11T00:04:12.326831900Z",
     "start_time": "2024-02-11T00:04:12.322432400Z"
    }
   },
   "outputs": [],
   "source": [
    "import archive\n",
    "import numpy as np\n",
    "import pandas as pd\n",
    "import warnings\n",
    "import matplotlib.pyplot as plt\n",
    "import seaborn as sns\n",
    "import plotly.express as px\n",
    "import plotly.graph_objects as go\n",
    "import plotly.io as pio\n",
    "from plotly.subplots import make_subplots\n",
    "from termcolor import colored\n",
    "from PIL import Image\n",
    "from wordcloud import WordCloud, STOPWORDS, ImageColorGenerator"
   ]
  },
  {
   "cell_type": "code",
   "outputs": [],
   "source": [
    "pio.templates.default = \"simple_white\"\n",
    "antq_blue = \"#336699\"\n",
    "antq_purple = \"#ac39ac\"\n",
    "antq_red = \"#e63900\"\n",
    "antq_orange = \"#ff8c1a\"\n",
    "faded_grey = \"#e6e6e6\"\n",
    "light_grey = \"#d9d9d9\"\n",
    "heading_font = \"Brush Script MT, Brush Script Std, cursive\"\n",
    "normal_font = \"times new roman\"\n",
    "palette = px.colors.qualitative.Set2\n",
    "palette_r = px.colors.qualitative.Set2_r\n",
    "set1 = px.colors.qualitative.Set1\n",
    "set3 = px.colors.qualitative.Set3\n",
    "warnings.filterwarnings('ignore')"
   ],
   "metadata": {
    "collapsed": false,
    "ExecuteTime": {
     "end_time": "2024-02-11T00:04:12.749820500Z",
     "start_time": "2024-02-11T00:04:12.746200Z"
    }
   },
   "id": "eeb05f41da633f04",
   "execution_count": 8
  },
  {
   "cell_type": "code",
   "outputs": [
    {
     "data": {
      "text/plain": "     Rank                                               Name  \\\n0       1  Demon Slayer: Kimetsu no Yaiba - Entertainment...   \n1       2                     Fruits Basket the Final Season   \n2       3                                    Mo Dao Zu Shi 3   \n3       4                   Fullmetal Alchemist: Brotherhood   \n4       5                Attack on Titan 3rd Season: Part II   \n..    ...                                                ...   \n995   996                                       Future Diary   \n996   997                                   Super Lovers OVA   \n997   998                                  A Lull in the Sea   \n998   999                                   Future Boy Conan   \n999  1000           Daily Lives of High School Boys Specials   \n\n                                       Japanese_name   Type  Episodes  \\\n0                      Kimetsu no Yaiba: Yuukaku-hen  TV          NaN   \n1                            Fruits Basket the Final  TV         13.0   \n2                         The Founder of Diabolism 3  Web        12.0   \n3     Hagane no Renkinjutsushi: Full Metal Alchemist  TV         64.0   \n4               Shingeki no Kyojin Season 3: Part II  TV         10.0   \n..                                               ...    ...       ...   \n995                                      Mirai Nikki  TV         26.0   \n996                                              NaN  OVA         2.0   \n997                                 Nagi no Asu kara  TV         26.0   \n998                              Mirai Shounen Conan  TV         26.0   \n999            Danshi Koukousei no Nichijou Specials  DVD S       NaN   \n\n                Studio Release_season  \\\n0             ufotable          Fall    \n1    TMS Entertainment         Spring   \n2     B.C MAY PICTURES            NaN   \n3                Bones         Spring   \n4           WIT Studio         Spring   \n..                 ...            ...   \n995             asread          Fall    \n996        Studio DEEN            NaN   \n997         P.A. WORKS          Fall    \n998   Nippon Animation            NaN   \n999            Sunrise            NaN   \n\n                                                  Tags  Rating  Release_year  \\\n0    Action, Adventure, Fantasy, Shounen, Demons, H...    4.60        2021.0   \n1    Drama, Fantasy, Romance, Shoujo, Animal Transf...    4.60        2021.0   \n2    Fantasy, Ancient China, Chinese Animation, Cul...    4.58        2021.0   \n3    Action, Adventure, Drama, Fantasy, Mystery, Sh...    4.58        2009.0   \n4    Action, Fantasy, Horror, Shounen, Dark Fantasy...    4.57        2019.0   \n..                                                 ...     ...           ...   \n995  Action, Shounen, Battle Royale, High Stakes Ga...    3.97        2011.0   \n996          BL, Romance, Shounen-ai, Based on a Manga    3.97        2017.0   \n997  Drama, Fantasy, Romance, Coming of Age, Love T...    3.97        2013.0   \n998  Adventure, Drama, Sci Fi, Post-apocalyptic, Ba...    3.97        1978.0   \n999  Comedy, Shounen, Slice of Life, Gag, School Li...    3.97        2012.0   \n\n     End_year                                        Description  \\\n0         NaN  'Tanjiro and his friends accompany the Hashira...   \n1         NaN                  'The final arc of Fruits Basket.'   \n2         NaN               'The third season of Mo Dao Zu Shi.'   \n3      2010.0  \"The foundation of alchemy is based on the law...   \n4         NaN  'The battle to retake Wall Maria begins now! W...   \n..        ...                                                ...   \n995    2012.0  \"Yuki is\\xa0a disaffected middle school boy wh...   \n996       NaN               'No synopsis yet - check back soon!'   \n997    2014.0  'Long ago, humans lived in the sea. However, s...   \n998       NaN  \"In AD 2008, mankind developed deadly weapons ...   \n999       NaN               'No synopsis yet - check back soon!'   \n\n                                       Content_Warning  \\\n0                                    Explicit Violence   \n1    Emotional Abuse,, Mature Themes,, Physical Abu...   \n2                                                  NaN   \n3    Animal Abuse,, Mature Themes,, Violence,, Dome...   \n4                      Cannibalism,, Explicit Violence   \n..                                                 ...   \n995  Explicit Violence,, Mature Themes,, Nudity,, S...   \n996                                                NaN   \n997                                                NaN   \n998                     Mature Themes,, Physical Abuse   \n999                                                NaN   \n\n                                         Related_Mange  \\\n0                       Demon Slayer: Kimetsu no Yaiba   \n1                 Fruits Basket, Fruits Basket Another   \n2    Grandmaster of Demonic Cultivation: Mo Dao Zu ...   \n3    Fullmetal Alchemist, Fullmetal Alchemist (Ligh...   \n4    Attack on Titan, Attack on Titan: End of the W...   \n..                                                 ...   \n995  Future Diary, Future Diary: Mosaic, Future Dia...   \n996                                       Super Lovers   \n997  Nagiyon: Nagi no Asukara 4-koma Gekijou, A Lul...   \n998                                                NaN   \n999  Daily Lives of High School Boys, Daily Lives o...   \n\n                                         Related_anime  \\\n0    Demon Slayer: Kimetsu no Yaiba, Demon Slayer: ...   \n1    Fruits Basket 1st Season, Fruits Basket 2nd Se...   \n2                     Mo Dao Zu Shi 2, Mo Dao Zu Shi Q   \n3    Fullmetal Alchemist: Brotherhood Specials, Ful...   \n4    Attack on Titan, Attack on Titan 2nd Season, A...   \n..                                                 ...   \n995  Future Diary OVA, Future Diary: Ura Mirai Nikk...   \n996                       Super Lovers, Super Lovers 2   \n997                                          Ray: Nagi   \n998  Mirai Shounen Conan Movie, Mirai Shounen Conan...   \n999                    Daily Lives of High School Boys   \n\n                                          Voice_actors  \\\n0    Inosuke Hashibira : Yoshitsugu Matsuoka, Nezuk...   \n1    Akito Sohma : Maaya Sakamoto, Kyo Sohma : Yuum...   \n2    Lan Wangji, Wei Wuxian, Jiang Cheng, Jin Guang...   \n3    Alphonse Elric : Rie Kugimiya, Edward Elric : ...   \n4    Armin Arlelt : Marina Inoue, Eren Jaeger : Yuu...   \n..                                                 ...   \n995  Yukiteru Amano : Misuzu Togashi, Yuno Gasai : ...   \n996  Haru Kaidou : Tomoaki Maeno, Ren Kaidou : Junk...   \n997  Chisaki Hiradaira : Ai Kayano, Hikari Sakishim...   \n998  Conan : Noriko Ohara, Lana : Mieko Nobusawa, B...   \n999  Hidenori Tabata : Tomokazu Sugita, Tadakuni : ...   \n\n                                                 staff  \n0    Koyoharu Gotouge : Original Creator, Haruo Sot...  \n1    Natsuki Takaya : Original Creator, Yoshihide I...  \n2    Mo Xiang Tong Xiu : Original Creator, Xiong Ke...  \n3    Hiromu Arakawa : Original Creator, Yasuhiro Ir...  \n4    Hajime Isayama : Original Creator, Tetsurou Ar...  \n..                                                 ...  \n995  Sakae Esuno : Original Creator, Naoto Hosoda :...  \n996                      Miyuki Abe : Original Creator  \n997  Toshiya Shinohara : Director, Yoshiaki Dewa : ...  \n998  Hayao Miyazaki : Director & Character Design &...  \n999               Yasunobu Yamauchi : Original Creator  \n\n[1000 rows x 17 columns]",
      "text/html": "<div>\n<style scoped>\n    .dataframe tbody tr th:only-of-type {\n        vertical-align: middle;\n    }\n\n    .dataframe tbody tr th {\n        vertical-align: top;\n    }\n\n    .dataframe thead th {\n        text-align: right;\n    }\n</style>\n<table border=\"1\" class=\"dataframe\">\n  <thead>\n    <tr style=\"text-align: right;\">\n      <th></th>\n      <th>Rank</th>\n      <th>Name</th>\n      <th>Japanese_name</th>\n      <th>Type</th>\n      <th>Episodes</th>\n      <th>Studio</th>\n      <th>Release_season</th>\n      <th>Tags</th>\n      <th>Rating</th>\n      <th>Release_year</th>\n      <th>End_year</th>\n      <th>Description</th>\n      <th>Content_Warning</th>\n      <th>Related_Mange</th>\n      <th>Related_anime</th>\n      <th>Voice_actors</th>\n      <th>staff</th>\n    </tr>\n  </thead>\n  <tbody>\n    <tr>\n      <th>0</th>\n      <td>1</td>\n      <td>Demon Slayer: Kimetsu no Yaiba - Entertainment...</td>\n      <td>Kimetsu no Yaiba: Yuukaku-hen</td>\n      <td>TV</td>\n      <td>NaN</td>\n      <td>ufotable</td>\n      <td>Fall</td>\n      <td>Action, Adventure, Fantasy, Shounen, Demons, H...</td>\n      <td>4.60</td>\n      <td>2021.0</td>\n      <td>NaN</td>\n      <td>'Tanjiro and his friends accompany the Hashira...</td>\n      <td>Explicit Violence</td>\n      <td>Demon Slayer: Kimetsu no Yaiba</td>\n      <td>Demon Slayer: Kimetsu no Yaiba, Demon Slayer: ...</td>\n      <td>Inosuke Hashibira : Yoshitsugu Matsuoka, Nezuk...</td>\n      <td>Koyoharu Gotouge : Original Creator, Haruo Sot...</td>\n    </tr>\n    <tr>\n      <th>1</th>\n      <td>2</td>\n      <td>Fruits Basket the Final Season</td>\n      <td>Fruits Basket the Final</td>\n      <td>TV</td>\n      <td>13.0</td>\n      <td>TMS Entertainment</td>\n      <td>Spring</td>\n      <td>Drama, Fantasy, Romance, Shoujo, Animal Transf...</td>\n      <td>4.60</td>\n      <td>2021.0</td>\n      <td>NaN</td>\n      <td>'The final arc of Fruits Basket.'</td>\n      <td>Emotional Abuse,, Mature Themes,, Physical Abu...</td>\n      <td>Fruits Basket, Fruits Basket Another</td>\n      <td>Fruits Basket 1st Season, Fruits Basket 2nd Se...</td>\n      <td>Akito Sohma : Maaya Sakamoto, Kyo Sohma : Yuum...</td>\n      <td>Natsuki Takaya : Original Creator, Yoshihide I...</td>\n    </tr>\n    <tr>\n      <th>2</th>\n      <td>3</td>\n      <td>Mo Dao Zu Shi 3</td>\n      <td>The Founder of Diabolism 3</td>\n      <td>Web</td>\n      <td>12.0</td>\n      <td>B.C MAY PICTURES</td>\n      <td>NaN</td>\n      <td>Fantasy, Ancient China, Chinese Animation, Cul...</td>\n      <td>4.58</td>\n      <td>2021.0</td>\n      <td>NaN</td>\n      <td>'The third season of Mo Dao Zu Shi.'</td>\n      <td>NaN</td>\n      <td>Grandmaster of Demonic Cultivation: Mo Dao Zu ...</td>\n      <td>Mo Dao Zu Shi 2, Mo Dao Zu Shi Q</td>\n      <td>Lan Wangji, Wei Wuxian, Jiang Cheng, Jin Guang...</td>\n      <td>Mo Xiang Tong Xiu : Original Creator, Xiong Ke...</td>\n    </tr>\n    <tr>\n      <th>3</th>\n      <td>4</td>\n      <td>Fullmetal Alchemist: Brotherhood</td>\n      <td>Hagane no Renkinjutsushi: Full Metal Alchemist</td>\n      <td>TV</td>\n      <td>64.0</td>\n      <td>Bones</td>\n      <td>Spring</td>\n      <td>Action, Adventure, Drama, Fantasy, Mystery, Sh...</td>\n      <td>4.58</td>\n      <td>2009.0</td>\n      <td>2010.0</td>\n      <td>\"The foundation of alchemy is based on the law...</td>\n      <td>Animal Abuse,, Mature Themes,, Violence,, Dome...</td>\n      <td>Fullmetal Alchemist, Fullmetal Alchemist (Ligh...</td>\n      <td>Fullmetal Alchemist: Brotherhood Specials, Ful...</td>\n      <td>Alphonse Elric : Rie Kugimiya, Edward Elric : ...</td>\n      <td>Hiromu Arakawa : Original Creator, Yasuhiro Ir...</td>\n    </tr>\n    <tr>\n      <th>4</th>\n      <td>5</td>\n      <td>Attack on Titan 3rd Season: Part II</td>\n      <td>Shingeki no Kyojin Season 3: Part II</td>\n      <td>TV</td>\n      <td>10.0</td>\n      <td>WIT Studio</td>\n      <td>Spring</td>\n      <td>Action, Fantasy, Horror, Shounen, Dark Fantasy...</td>\n      <td>4.57</td>\n      <td>2019.0</td>\n      <td>NaN</td>\n      <td>'The battle to retake Wall Maria begins now! W...</td>\n      <td>Cannibalism,, Explicit Violence</td>\n      <td>Attack on Titan, Attack on Titan: End of the W...</td>\n      <td>Attack on Titan, Attack on Titan 2nd Season, A...</td>\n      <td>Armin Arlelt : Marina Inoue, Eren Jaeger : Yuu...</td>\n      <td>Hajime Isayama : Original Creator, Tetsurou Ar...</td>\n    </tr>\n    <tr>\n      <th>...</th>\n      <td>...</td>\n      <td>...</td>\n      <td>...</td>\n      <td>...</td>\n      <td>...</td>\n      <td>...</td>\n      <td>...</td>\n      <td>...</td>\n      <td>...</td>\n      <td>...</td>\n      <td>...</td>\n      <td>...</td>\n      <td>...</td>\n      <td>...</td>\n      <td>...</td>\n      <td>...</td>\n      <td>...</td>\n    </tr>\n    <tr>\n      <th>995</th>\n      <td>996</td>\n      <td>Future Diary</td>\n      <td>Mirai Nikki</td>\n      <td>TV</td>\n      <td>26.0</td>\n      <td>asread</td>\n      <td>Fall</td>\n      <td>Action, Shounen, Battle Royale, High Stakes Ga...</td>\n      <td>3.97</td>\n      <td>2011.0</td>\n      <td>2012.0</td>\n      <td>\"Yuki is\\xa0a disaffected middle school boy wh...</td>\n      <td>Explicit Violence,, Mature Themes,, Nudity,, S...</td>\n      <td>Future Diary, Future Diary: Mosaic, Future Dia...</td>\n      <td>Future Diary OVA, Future Diary: Ura Mirai Nikk...</td>\n      <td>Yukiteru Amano : Misuzu Togashi, Yuno Gasai : ...</td>\n      <td>Sakae Esuno : Original Creator, Naoto Hosoda :...</td>\n    </tr>\n    <tr>\n      <th>996</th>\n      <td>997</td>\n      <td>Super Lovers OVA</td>\n      <td>NaN</td>\n      <td>OVA</td>\n      <td>2.0</td>\n      <td>Studio DEEN</td>\n      <td>NaN</td>\n      <td>BL, Romance, Shounen-ai, Based on a Manga</td>\n      <td>3.97</td>\n      <td>2017.0</td>\n      <td>NaN</td>\n      <td>'No synopsis yet - check back soon!'</td>\n      <td>NaN</td>\n      <td>Super Lovers</td>\n      <td>Super Lovers, Super Lovers 2</td>\n      <td>Haru Kaidou : Tomoaki Maeno, Ren Kaidou : Junk...</td>\n      <td>Miyuki Abe : Original Creator</td>\n    </tr>\n    <tr>\n      <th>997</th>\n      <td>998</td>\n      <td>A Lull in the Sea</td>\n      <td>Nagi no Asu kara</td>\n      <td>TV</td>\n      <td>26.0</td>\n      <td>P.A. WORKS</td>\n      <td>Fall</td>\n      <td>Drama, Fantasy, Romance, Coming of Age, Love T...</td>\n      <td>3.97</td>\n      <td>2013.0</td>\n      <td>2014.0</td>\n      <td>'Long ago, humans lived in the sea. However, s...</td>\n      <td>NaN</td>\n      <td>Nagiyon: Nagi no Asukara 4-koma Gekijou, A Lul...</td>\n      <td>Ray: Nagi</td>\n      <td>Chisaki Hiradaira : Ai Kayano, Hikari Sakishim...</td>\n      <td>Toshiya Shinohara : Director, Yoshiaki Dewa : ...</td>\n    </tr>\n    <tr>\n      <th>998</th>\n      <td>999</td>\n      <td>Future Boy Conan</td>\n      <td>Mirai Shounen Conan</td>\n      <td>TV</td>\n      <td>26.0</td>\n      <td>Nippon Animation</td>\n      <td>NaN</td>\n      <td>Adventure, Drama, Sci Fi, Post-apocalyptic, Ba...</td>\n      <td>3.97</td>\n      <td>1978.0</td>\n      <td>NaN</td>\n      <td>\"In AD 2008, mankind developed deadly weapons ...</td>\n      <td>Mature Themes,, Physical Abuse</td>\n      <td>NaN</td>\n      <td>Mirai Shounen Conan Movie, Mirai Shounen Conan...</td>\n      <td>Conan : Noriko Ohara, Lana : Mieko Nobusawa, B...</td>\n      <td>Hayao Miyazaki : Director &amp; Character Design &amp;...</td>\n    </tr>\n    <tr>\n      <th>999</th>\n      <td>1000</td>\n      <td>Daily Lives of High School Boys Specials</td>\n      <td>Danshi Koukousei no Nichijou Specials</td>\n      <td>DVD S</td>\n      <td>NaN</td>\n      <td>Sunrise</td>\n      <td>NaN</td>\n      <td>Comedy, Shounen, Slice of Life, Gag, School Li...</td>\n      <td>3.97</td>\n      <td>2012.0</td>\n      <td>NaN</td>\n      <td>'No synopsis yet - check back soon!'</td>\n      <td>NaN</td>\n      <td>Daily Lives of High School Boys, Daily Lives o...</td>\n      <td>Daily Lives of High School Boys</td>\n      <td>Hidenori Tabata : Tomokazu Sugita, Tadakuni : ...</td>\n      <td>Yasunobu Yamauchi : Original Creator</td>\n    </tr>\n  </tbody>\n</table>\n<p>1000 rows × 17 columns</p>\n</div>"
     },
     "execution_count": 9,
     "metadata": {},
     "output_type": "execute_result"
    }
   ],
   "source": [
    "dataset = pd.read_csv(r\"Data\\Anime.csv\")\n",
    "dataset.head(1000)"
   ],
   "metadata": {
    "collapsed": false,
    "ExecuteTime": {
     "end_time": "2024-02-11T00:04:13.400582200Z",
     "start_time": "2024-02-11T00:04:13.195811900Z"
    }
   },
   "id": "fe68e35b3e2d59ed",
   "execution_count": 9
  },
  {
   "cell_type": "code",
   "outputs": [],
   "source": [],
   "metadata": {
    "collapsed": false,
    "ExecuteTime": {
     "end_time": "2024-02-10T23:58:01.126470200Z",
     "start_time": "2024-02-10T23:58:01.120212400Z"
    }
   },
   "id": "2d0d8787e5eb3dba",
   "execution_count": 19
  },
  {
   "cell_type": "code",
   "outputs": [],
   "source": [],
   "metadata": {
    "collapsed": false
   },
   "id": "18966a7d66647538"
  }
 ],
 "metadata": {
  "kernelspec": {
   "display_name": "Python 3",
   "language": "python",
   "name": "python3"
  },
  "language_info": {
   "codemirror_mode": {
    "name": "ipython",
    "version": 2
   },
   "file_extension": ".py",
   "mimetype": "text/x-python",
   "name": "python",
   "nbconvert_exporter": "python",
   "pygments_lexer": "ipython2",
   "version": "2.7.6"
  }
 },
 "nbformat": 4,
 "nbformat_minor": 5
}
